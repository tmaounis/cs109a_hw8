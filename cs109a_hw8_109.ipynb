{
 "cells": [
  {
   "cell_type": "markdown",
   "metadata": {},
   "source": [
    "# <img style=\"float: left; padding-right: 10px; width: 45px\" src=\"https://raw.githubusercontent.com/Harvard-IACS/2018-CS109A/master/content/styles/iacs.png\"> CS109A Introduction to Data Science: \n",
    "\n",
    "## Homework 8: Ensembles: Bagging, Random Forests, and Boosting\n",
    "\n",
    "\n",
    "**Harvard University**<br/>\n",
    "**Fall 2018**<br/>\n",
    "**Instructors**: Pavlos Protopapas, Kevin Rader\n",
    "\n",
    "<hr style=\"height:2pt\">\n",
    "\n"
   ]
  },
  {
   "cell_type": "code",
   "execution_count": 1,
   "metadata": {},
   "outputs": [
    {
     "data": {
      "text/html": [
       "<style>\n",
       "blockquote { background: #AEDE94; }\n",
       "h1 { \n",
       "    padding-top: 25px;\n",
       "    padding-bottom: 25px;\n",
       "    text-align: left; \n",
       "    padding-left: 10px;\n",
       "    background-color: #DDDDDD; \n",
       "    color: black;\n",
       "}\n",
       "h2 { \n",
       "    padding-top: 10px;\n",
       "    padding-bottom: 10px;\n",
       "    text-align: left; \n",
       "    padding-left: 5px;\n",
       "    background-color: #EEEEEE; \n",
       "    color: black;\n",
       "}\n",
       "\n",
       "div.exercise {\n",
       "\tbackground-color: #ffcccc;\n",
       "\tborder-color: #E9967A; \t\n",
       "\tborder-left: 5px solid #800080; \n",
       "\tpadding: 0.5em;\n",
       "}\n",
       "div.theme {\n",
       "\tbackground-color: #DDDDDD;\n",
       "\tborder-color: #E9967A; \t\n",
       "\tborder-left: 5px solid #800080; \n",
       "\tpadding: 0.5em;\n",
       "\tfont-size: 18pt;\n",
       "}\n",
       "div.gc { \n",
       "\tbackground-color: #AEDE94;\n",
       "\tborder-color: #E9967A; \t \n",
       "\tborder-left: 5px solid #800080; \n",
       "\tpadding: 0.5em;\n",
       "\tfont-size: 12pt;\n",
       "}\n",
       "p.q1 { \n",
       "    padding-top: 5px;\n",
       "    padding-bottom: 5px;\n",
       "    text-align: left; \n",
       "    padding-left: 5px;\n",
       "    background-color: #EEEEEE; \n",
       "    color: black;\n",
       "}\n",
       "header {\n",
       "   padding-top: 35px;\n",
       "    padding-bottom: 35px;\n",
       "    text-align: left; \n",
       "    padding-left: 10px;\n",
       "    background-color: #DDDDDD; \n",
       "    color: black;\n",
       "}\n",
       "</style>\n",
       "\n"
      ],
      "text/plain": [
       "<IPython.core.display.HTML object>"
      ]
     },
     "execution_count": 1,
     "metadata": {},
     "output_type": "execute_result"
    }
   ],
   "source": [
    "#RUN THIS CELL \n",
    "import requests\n",
    "from IPython.core.display import HTML\n",
    "styles = requests.get(\"https://raw.githubusercontent.com/Harvard-IACS/2018-CS109A/master/content/styles/cs109.css\").text\n",
    "HTML(styles)"
   ]
  },
  {
   "cell_type": "markdown",
   "metadata": {},
   "source": [
    "### INSTRUCTIONS\n",
    "\n",
    "- To submit your assignment follow the [instructions given in Canvas](https://canvas.harvard.edu/courses/42693/pages/homework-policies-and-submission-instructions).\n",
    "\n",
    "- If needed, clarifications will be posted on Piazza.\n",
    "\n",
    "- This homework can be submitted in pairs.\n",
    "\n",
    "- If you submit individually but you have worked with someone, please include the name of your **one** partner below. \n",
    "\n",
    "\n",
    "**Name of the person you have worked with goes here:**\n",
    "<br><BR>"
   ]
  },
  {
   "cell_type": "markdown",
   "metadata": {},
   "source": [
    "## Learning Objectives\n",
    "Completing this assignment will demonstrate success at the following objectives:\n",
    "\n",
    "- Statistical\n",
    "  - Predict when bagging will help model performance.\n",
    "  - Identify how Random Forests improve over bagging.\n",
    "  - Predict when boosting will help model performance.\n",
    "  - Compare and contrast bagging and boosting.\n",
    "- Coding\n",
    "  - Identify and fix problems in poorly written code\n",
    "- Communication\n",
    "  - Visually explain a complex concept"
   ]
  },
  {
   "cell_type": "code",
   "execution_count": 2,
   "metadata": {},
   "outputs": [],
   "source": [
    "import numpy as np\n",
    "import pandas as pd\n",
    "import matplotlib.pyplot as plt\n",
    "\n",
    "from sklearn.model_selection import cross_val_score\n",
    "from sklearn.utils import resample\n",
    "from sklearn.tree import DecisionTreeClassifier\n",
    "from sklearn.ensemble import RandomForestClassifier\n",
    "from sklearn.ensemble import AdaBoostClassifier\n",
    "from sklearn.metrics import accuracy_score\n",
    "\n",
    "%matplotlib inline\n",
    "\n",
    "import seaborn as sns\n",
    "sns.set(style='whitegrid')\n",
    "pd.set_option('display.width', 1500)\n",
    "pd.set_option('display.max_columns', 100)"
   ]
  },
  {
   "cell_type": "markdown",
   "metadata": {},
   "source": [
    "<div class=\"theme\"> Overview: Higgs Boson Discovery </div>\n",
    "\n",
    "The discovery of the Higgs boson in July 2012 marked a fundamental breakthrough in particle physics. The Higgs boson particle was discovered through experiments at the Large Hadron Collider at CERN, by colliding beams of protons at high energy. A key challenge in analyzing the results of these experiments is to differentiate between collisions that produce Higgs bosons and collisions that produce only background noise. We shall explore the use of ensemble methods for this classification task.\n",
    "\n",
    "You are provided with data from Monte-Carlo simulations of collisions of particles in a particle collider experiment. The training set is available in `Higgs_train.csv` and the test set is in `Higgs_test.csv`. Each row in these files corresponds to a particle collision described by 28 features (columns 1-28), of which the first 21 features are kinematic properties measured by the particle detectors in the accelerator, and the remaining features are derived by physicists from the first 21 features. The class label is provided in the last column, with a label of 1 indicating that the collision produces Higgs bosons (signal), and a label of 0 indicating that the collision produces other particles (background).\n",
    "\n",
    "The data set provided to you is a small subset of the HIGGS data set in the UCI machine learning repository. The following paper contains further details about the data set and the predictors used: [Baldi et al., Nature Communications 5, 2014](https://www.nature.com/articles/ncomms5308)."
   ]
  },
  {
   "cell_type": "code",
   "execution_count": 3,
   "metadata": {},
   "outputs": [
    {
     "name": "stdout",
     "output_type": "stream",
     "text": [
      "5000 training samples, 5000 test samples\n",
      "\n",
      "Columns:\n",
      "lepton pT, lepton eta, lepton phi, missing energy magnitude, missing energy phi, jet 1 pt, jet 1 eta, jet 1 phi, jet 1 b-tag, jet 2 pt, jet 2 eta, jet 2 phi, jet 2 b-tag, jet 3 pt, jet 3 eta, jet 3 phi, jet 3 b-tag, jet 4 pt, jet 4 eta, jet 4 phi, jet 4 b-tag, m_jj, m_jjj, m_lv, m_jlv, m_bb, m_wbb, m_wwbb, class\n"
     ]
    }
   ],
   "source": [
    "# Load data\n",
    "data_train = pd.read_csv('data/Higgs_train.csv')\n",
    "data_test = pd.read_csv('data/Higgs_test.csv')\n",
    "\n",
    "print(f\"{len(data_train)} training samples, {len(data_test)} test samples\")\n",
    "print(\"\\nColumns:\")\n",
    "print(', '.join(data_train.columns))"
   ]
  },
  {
   "cell_type": "code",
   "execution_count": 4,
   "metadata": {
    "scrolled": false
   },
   "outputs": [
    {
     "data": {
      "text/html": [
       "<div>\n",
       "<style scoped>\n",
       "    .dataframe tbody tr th:only-of-type {\n",
       "        vertical-align: middle;\n",
       "    }\n",
       "\n",
       "    .dataframe tbody tr th {\n",
       "        vertical-align: top;\n",
       "    }\n",
       "\n",
       "    .dataframe thead th {\n",
       "        text-align: right;\n",
       "    }\n",
       "</style>\n",
       "<table border=\"1\" class=\"dataframe\">\n",
       "  <thead>\n",
       "    <tr style=\"text-align: right;\">\n",
       "      <th></th>\n",
       "      <th>lepton pT</th>\n",
       "      <th>lepton eta</th>\n",
       "      <th>lepton phi</th>\n",
       "      <th>missing energy magnitude</th>\n",
       "      <th>missing energy phi</th>\n",
       "      <th>jet 1 pt</th>\n",
       "      <th>jet 1 eta</th>\n",
       "      <th>jet 1 phi</th>\n",
       "      <th>jet 1 b-tag</th>\n",
       "      <th>jet 2 pt</th>\n",
       "      <th>jet 2 eta</th>\n",
       "      <th>jet 2 phi</th>\n",
       "      <th>jet 2 b-tag</th>\n",
       "      <th>jet 3 pt</th>\n",
       "      <th>jet 3 eta</th>\n",
       "      <th>jet 3 phi</th>\n",
       "      <th>jet 3 b-tag</th>\n",
       "      <th>jet 4 pt</th>\n",
       "      <th>jet 4 eta</th>\n",
       "      <th>jet 4 phi</th>\n",
       "      <th>jet 4 b-tag</th>\n",
       "      <th>m_jj</th>\n",
       "      <th>m_jjj</th>\n",
       "      <th>m_lv</th>\n",
       "      <th>m_jlv</th>\n",
       "      <th>m_bb</th>\n",
       "      <th>m_wbb</th>\n",
       "      <th>m_wwbb</th>\n",
       "      <th>class</th>\n",
       "    </tr>\n",
       "  </thead>\n",
       "  <tbody>\n",
       "    <tr>\n",
       "      <th>0</th>\n",
       "      <td>0.377</td>\n",
       "      <td>-1.5800</td>\n",
       "      <td>-1.7100</td>\n",
       "      <td>0.991</td>\n",
       "      <td>0.114</td>\n",
       "      <td>1.250</td>\n",
       "      <td>0.620</td>\n",
       "      <td>-1.480</td>\n",
       "      <td>2.17</td>\n",
       "      <td>0.754</td>\n",
       "      <td>0.7750</td>\n",
       "      <td>-0.667</td>\n",
       "      <td>2.21</td>\n",
       "      <td>1.280</td>\n",
       "      <td>-1.190</td>\n",
       "      <td>0.505</td>\n",
       "      <td>0.00</td>\n",
       "      <td>1.110</td>\n",
       "      <td>-0.464</td>\n",
       "      <td>0.397</td>\n",
       "      <td>0.00</td>\n",
       "      <td>0.522</td>\n",
       "      <td>1.320</td>\n",
       "      <td>0.982</td>\n",
       "      <td>1.360</td>\n",
       "      <td>0.965</td>\n",
       "      <td>1.310</td>\n",
       "      <td>1.080</td>\n",
       "      <td>1.0</td>\n",
       "    </tr>\n",
       "    <tr>\n",
       "      <th>1</th>\n",
       "      <td>0.707</td>\n",
       "      <td>0.0876</td>\n",
       "      <td>-0.4000</td>\n",
       "      <td>0.919</td>\n",
       "      <td>-1.230</td>\n",
       "      <td>1.170</td>\n",
       "      <td>-0.553</td>\n",
       "      <td>0.886</td>\n",
       "      <td>2.17</td>\n",
       "      <td>1.300</td>\n",
       "      <td>0.7620</td>\n",
       "      <td>-1.060</td>\n",
       "      <td>2.21</td>\n",
       "      <td>0.607</td>\n",
       "      <td>0.459</td>\n",
       "      <td>1.020</td>\n",
       "      <td>0.00</td>\n",
       "      <td>0.497</td>\n",
       "      <td>0.956</td>\n",
       "      <td>0.236</td>\n",
       "      <td>0.00</td>\n",
       "      <td>0.440</td>\n",
       "      <td>0.829</td>\n",
       "      <td>0.992</td>\n",
       "      <td>1.160</td>\n",
       "      <td>2.220</td>\n",
       "      <td>1.190</td>\n",
       "      <td>0.938</td>\n",
       "      <td>1.0</td>\n",
       "    </tr>\n",
       "    <tr>\n",
       "      <th>2</th>\n",
       "      <td>0.617</td>\n",
       "      <td>0.2660</td>\n",
       "      <td>-1.3500</td>\n",
       "      <td>1.150</td>\n",
       "      <td>1.040</td>\n",
       "      <td>0.955</td>\n",
       "      <td>0.377</td>\n",
       "      <td>-0.148</td>\n",
       "      <td>0.00</td>\n",
       "      <td>1.060</td>\n",
       "      <td>-0.0194</td>\n",
       "      <td>1.110</td>\n",
       "      <td>0.00</td>\n",
       "      <td>1.470</td>\n",
       "      <td>0.205</td>\n",
       "      <td>-1.060</td>\n",
       "      <td>2.55</td>\n",
       "      <td>1.490</td>\n",
       "      <td>-0.398</td>\n",
       "      <td>-0.542</td>\n",
       "      <td>0.00</td>\n",
       "      <td>1.020</td>\n",
       "      <td>1.030</td>\n",
       "      <td>0.986</td>\n",
       "      <td>0.928</td>\n",
       "      <td>1.370</td>\n",
       "      <td>0.982</td>\n",
       "      <td>0.917</td>\n",
       "      <td>1.0</td>\n",
       "    </tr>\n",
       "    <tr>\n",
       "      <th>3</th>\n",
       "      <td>0.851</td>\n",
       "      <td>-0.3810</td>\n",
       "      <td>-0.0713</td>\n",
       "      <td>1.470</td>\n",
       "      <td>-0.795</td>\n",
       "      <td>0.692</td>\n",
       "      <td>0.883</td>\n",
       "      <td>0.497</td>\n",
       "      <td>0.00</td>\n",
       "      <td>1.620</td>\n",
       "      <td>0.1240</td>\n",
       "      <td>1.180</td>\n",
       "      <td>1.11</td>\n",
       "      <td>1.290</td>\n",
       "      <td>0.160</td>\n",
       "      <td>-0.916</td>\n",
       "      <td>2.55</td>\n",
       "      <td>0.945</td>\n",
       "      <td>0.796</td>\n",
       "      <td>-1.520</td>\n",
       "      <td>0.00</td>\n",
       "      <td>1.200</td>\n",
       "      <td>1.100</td>\n",
       "      <td>0.987</td>\n",
       "      <td>1.350</td>\n",
       "      <td>1.460</td>\n",
       "      <td>0.995</td>\n",
       "      <td>0.954</td>\n",
       "      <td>1.0</td>\n",
       "    </tr>\n",
       "    <tr>\n",
       "      <th>4</th>\n",
       "      <td>0.768</td>\n",
       "      <td>-0.6920</td>\n",
       "      <td>-0.0402</td>\n",
       "      <td>0.615</td>\n",
       "      <td>0.144</td>\n",
       "      <td>0.749</td>\n",
       "      <td>0.397</td>\n",
       "      <td>-0.874</td>\n",
       "      <td>0.00</td>\n",
       "      <td>1.150</td>\n",
       "      <td>0.1270</td>\n",
       "      <td>1.320</td>\n",
       "      <td>2.21</td>\n",
       "      <td>0.730</td>\n",
       "      <td>-0.758</td>\n",
       "      <td>-1.120</td>\n",
       "      <td>0.00</td>\n",
       "      <td>0.848</td>\n",
       "      <td>0.107</td>\n",
       "      <td>0.502</td>\n",
       "      <td>1.55</td>\n",
       "      <td>0.922</td>\n",
       "      <td>0.864</td>\n",
       "      <td>0.983</td>\n",
       "      <td>1.370</td>\n",
       "      <td>0.601</td>\n",
       "      <td>0.919</td>\n",
       "      <td>0.957</td>\n",
       "      <td>0.0</td>\n",
       "    </tr>\n",
       "  </tbody>\n",
       "</table>\n",
       "</div>"
      ],
      "text/plain": [
       "   lepton pT  lepton eta  lepton phi  missing energy magnitude  missing energy phi  jet 1 pt  jet 1 eta  jet 1 phi  jet 1 b-tag  jet 2 pt  jet 2 eta  jet 2 phi  jet 2 b-tag  jet 3 pt  jet 3 eta  jet 3 phi  jet 3 b-tag  jet 4 pt  jet 4 eta  jet 4 phi  jet 4 b-tag   m_jj  m_jjj   m_lv  m_jlv   m_bb  m_wbb  m_wwbb  class\n",
       "0      0.377     -1.5800     -1.7100                     0.991               0.114     1.250      0.620     -1.480         2.17     0.754     0.7750     -0.667         2.21     1.280     -1.190      0.505         0.00     1.110     -0.464      0.397         0.00  0.522  1.320  0.982  1.360  0.965  1.310   1.080    1.0\n",
       "1      0.707      0.0876     -0.4000                     0.919              -1.230     1.170     -0.553      0.886         2.17     1.300     0.7620     -1.060         2.21     0.607      0.459      1.020         0.00     0.497      0.956      0.236         0.00  0.440  0.829  0.992  1.160  2.220  1.190   0.938    1.0\n",
       "2      0.617      0.2660     -1.3500                     1.150               1.040     0.955      0.377     -0.148         0.00     1.060    -0.0194      1.110         0.00     1.470      0.205     -1.060         2.55     1.490     -0.398     -0.542         0.00  1.020  1.030  0.986  0.928  1.370  0.982   0.917    1.0\n",
       "3      0.851     -0.3810     -0.0713                     1.470              -0.795     0.692      0.883      0.497         0.00     1.620     0.1240      1.180         1.11     1.290      0.160     -0.916         2.55     0.945      0.796     -1.520         0.00  1.200  1.100  0.987  1.350  1.460  0.995   0.954    1.0\n",
       "4      0.768     -0.6920     -0.0402                     0.615               0.144     0.749      0.397     -0.874         0.00     1.150     0.1270      1.320         2.21     0.730     -0.758     -1.120         0.00     0.848      0.107      0.502         1.55  0.922  0.864  0.983  1.370  0.601  0.919   0.957    0.0"
      ]
     },
     "metadata": {},
     "output_type": "display_data"
    },
    {
     "data": {
      "text/html": [
       "<div>\n",
       "<style scoped>\n",
       "    .dataframe tbody tr th:only-of-type {\n",
       "        vertical-align: middle;\n",
       "    }\n",
       "\n",
       "    .dataframe tbody tr th {\n",
       "        vertical-align: top;\n",
       "    }\n",
       "\n",
       "    .dataframe thead th {\n",
       "        text-align: right;\n",
       "    }\n",
       "</style>\n",
       "<table border=\"1\" class=\"dataframe\">\n",
       "  <thead>\n",
       "    <tr style=\"text-align: right;\">\n",
       "      <th></th>\n",
       "      <th>lepton pT</th>\n",
       "      <th>lepton eta</th>\n",
       "      <th>lepton phi</th>\n",
       "      <th>missing energy magnitude</th>\n",
       "      <th>missing energy phi</th>\n",
       "      <th>jet 1 pt</th>\n",
       "      <th>jet 1 eta</th>\n",
       "      <th>jet 1 phi</th>\n",
       "      <th>jet 1 b-tag</th>\n",
       "      <th>jet 2 pt</th>\n",
       "      <th>jet 2 eta</th>\n",
       "      <th>jet 2 phi</th>\n",
       "      <th>jet 2 b-tag</th>\n",
       "      <th>jet 3 pt</th>\n",
       "      <th>jet 3 eta</th>\n",
       "      <th>jet 3 phi</th>\n",
       "      <th>jet 3 b-tag</th>\n",
       "      <th>jet 4 pt</th>\n",
       "      <th>jet 4 eta</th>\n",
       "      <th>jet 4 phi</th>\n",
       "      <th>jet 4 b-tag</th>\n",
       "      <th>m_jj</th>\n",
       "      <th>m_jjj</th>\n",
       "      <th>m_lv</th>\n",
       "      <th>m_jlv</th>\n",
       "      <th>m_bb</th>\n",
       "      <th>m_wbb</th>\n",
       "      <th>m_wwbb</th>\n",
       "      <th>class</th>\n",
       "    </tr>\n",
       "  </thead>\n",
       "  <tbody>\n",
       "    <tr>\n",
       "      <th>count</th>\n",
       "      <td>5000.000000</td>\n",
       "      <td>5000.000000</td>\n",
       "      <td>5000.000000</td>\n",
       "      <td>5000.000000</td>\n",
       "      <td>5000.000000</td>\n",
       "      <td>5000.000000</td>\n",
       "      <td>5000.000000</td>\n",
       "      <td>5000.000000</td>\n",
       "      <td>5000.000000</td>\n",
       "      <td>5000.000000</td>\n",
       "      <td>5000.000000</td>\n",
       "      <td>5000.000000</td>\n",
       "      <td>5000.000000</td>\n",
       "      <td>5000.000000</td>\n",
       "      <td>5000.000000</td>\n",
       "      <td>5000.000000</td>\n",
       "      <td>5000.000000</td>\n",
       "      <td>5000.000000</td>\n",
       "      <td>5000.000000</td>\n",
       "      <td>5000.000000</td>\n",
       "      <td>5000.000000</td>\n",
       "      <td>5000.000000</td>\n",
       "      <td>5000.000000</td>\n",
       "      <td>5000.000000</td>\n",
       "      <td>5000.000000</td>\n",
       "      <td>5000.000000</td>\n",
       "      <td>5000.000000</td>\n",
       "      <td>5000.000000</td>\n",
       "      <td>5000.000000</td>\n",
       "    </tr>\n",
       "    <tr>\n",
       "      <th>mean</th>\n",
       "      <td>0.978645</td>\n",
       "      <td>-0.014280</td>\n",
       "      <td>-0.018956</td>\n",
       "      <td>1.005793</td>\n",
       "      <td>0.002528</td>\n",
       "      <td>0.980390</td>\n",
       "      <td>0.025014</td>\n",
       "      <td>-0.007104</td>\n",
       "      <td>0.993678</td>\n",
       "      <td>0.988659</td>\n",
       "      <td>-0.010310</td>\n",
       "      <td>-0.006926</td>\n",
       "      <td>1.006922</td>\n",
       "      <td>0.997004</td>\n",
       "      <td>0.018817</td>\n",
       "      <td>0.003952</td>\n",
       "      <td>1.011994</td>\n",
       "      <td>0.982806</td>\n",
       "      <td>0.005201</td>\n",
       "      <td>0.003349</td>\n",
       "      <td>1.007810</td>\n",
       "      <td>1.038431</td>\n",
       "      <td>1.027201</td>\n",
       "      <td>1.054719</td>\n",
       "      <td>1.023094</td>\n",
       "      <td>0.958464</td>\n",
       "      <td>1.033432</td>\n",
       "      <td>0.960494</td>\n",
       "      <td>0.524600</td>\n",
       "    </tr>\n",
       "    <tr>\n",
       "      <th>std</th>\n",
       "      <td>0.547025</td>\n",
       "      <td>1.011927</td>\n",
       "      <td>0.997945</td>\n",
       "      <td>0.591907</td>\n",
       "      <td>1.003337</td>\n",
       "      <td>0.463677</td>\n",
       "      <td>1.002018</td>\n",
       "      <td>1.014559</td>\n",
       "      <td>1.028920</td>\n",
       "      <td>0.476462</td>\n",
       "      <td>1.007983</td>\n",
       "      <td>1.002177</td>\n",
       "      <td>1.045206</td>\n",
       "      <td>0.471681</td>\n",
       "      <td>1.007824</td>\n",
       "      <td>0.999656</td>\n",
       "      <td>1.200416</td>\n",
       "      <td>0.497681</td>\n",
       "      <td>1.007999</td>\n",
       "      <td>1.008904</td>\n",
       "      <td>1.400846</td>\n",
       "      <td>0.619460</td>\n",
       "      <td>0.353984</td>\n",
       "      <td>0.173243</td>\n",
       "      <td>0.427141</td>\n",
       "      <td>0.495720</td>\n",
       "      <td>0.352966</td>\n",
       "      <td>0.306057</td>\n",
       "      <td>0.499444</td>\n",
       "    </tr>\n",
       "    <tr>\n",
       "      <th>min</th>\n",
       "      <td>0.275000</td>\n",
       "      <td>-2.410000</td>\n",
       "      <td>-1.740000</td>\n",
       "      <td>0.010000</td>\n",
       "      <td>-1.740000</td>\n",
       "      <td>0.170000</td>\n",
       "      <td>-2.920000</td>\n",
       "      <td>-1.740000</td>\n",
       "      <td>0.000000</td>\n",
       "      <td>0.198000</td>\n",
       "      <td>-2.910000</td>\n",
       "      <td>-1.740000</td>\n",
       "      <td>0.000000</td>\n",
       "      <td>0.265000</td>\n",
       "      <td>-2.720000</td>\n",
       "      <td>-1.740000</td>\n",
       "      <td>0.000000</td>\n",
       "      <td>0.366000</td>\n",
       "      <td>-2.500000</td>\n",
       "      <td>-1.740000</td>\n",
       "      <td>0.000000</td>\n",
       "      <td>0.151000</td>\n",
       "      <td>0.443000</td>\n",
       "      <td>0.339000</td>\n",
       "      <td>0.371000</td>\n",
       "      <td>0.079500</td>\n",
       "      <td>0.413000</td>\n",
       "      <td>0.452000</td>\n",
       "      <td>0.000000</td>\n",
       "    </tr>\n",
       "    <tr>\n",
       "      <th>25%</th>\n",
       "      <td>0.587000</td>\n",
       "      <td>-0.764250</td>\n",
       "      <td>-0.877500</td>\n",
       "      <td>0.581000</td>\n",
       "      <td>-0.870000</td>\n",
       "      <td>0.676000</td>\n",
       "      <td>-0.659250</td>\n",
       "      <td>-0.885000</td>\n",
       "      <td>0.000000</td>\n",
       "      <td>0.666000</td>\n",
       "      <td>-0.699000</td>\n",
       "      <td>-0.859500</td>\n",
       "      <td>0.000000</td>\n",
       "      <td>0.664750</td>\n",
       "      <td>-0.679250</td>\n",
       "      <td>-0.858000</td>\n",
       "      <td>0.000000</td>\n",
       "      <td>0.619000</td>\n",
       "      <td>-0.707250</td>\n",
       "      <td>-0.869250</td>\n",
       "      <td>0.000000</td>\n",
       "      <td>0.798750</td>\n",
       "      <td>0.850000</td>\n",
       "      <td>0.986000</td>\n",
       "      <td>0.768000</td>\n",
       "      <td>0.672000</td>\n",
       "      <td>0.826000</td>\n",
       "      <td>0.772750</td>\n",
       "      <td>0.000000</td>\n",
       "    </tr>\n",
       "    <tr>\n",
       "      <th>50%</th>\n",
       "      <td>0.846000</td>\n",
       "      <td>-0.009305</td>\n",
       "      <td>-0.016050</td>\n",
       "      <td>0.903500</td>\n",
       "      <td>0.001300</td>\n",
       "      <td>0.891000</td>\n",
       "      <td>0.049500</td>\n",
       "      <td>-0.023500</td>\n",
       "      <td>1.090000</td>\n",
       "      <td>0.891000</td>\n",
       "      <td>-0.004800</td>\n",
       "      <td>-0.030700</td>\n",
       "      <td>1.110000</td>\n",
       "      <td>0.899500</td>\n",
       "      <td>0.045700</td>\n",
       "      <td>0.018800</td>\n",
       "      <td>0.000000</td>\n",
       "      <td>0.877000</td>\n",
       "      <td>0.012900</td>\n",
       "      <td>-0.004700</td>\n",
       "      <td>0.000000</td>\n",
       "      <td>0.898000</td>\n",
       "      <td>0.957000</td>\n",
       "      <td>0.990000</td>\n",
       "      <td>0.922000</td>\n",
       "      <td>0.868000</td>\n",
       "      <td>0.952000</td>\n",
       "      <td>0.877500</td>\n",
       "      <td>1.000000</td>\n",
       "    </tr>\n",
       "    <tr>\n",
       "      <th>75%</th>\n",
       "      <td>1.220000</td>\n",
       "      <td>0.725500</td>\n",
       "      <td>0.837000</td>\n",
       "      <td>1.300000</td>\n",
       "      <td>0.866000</td>\n",
       "      <td>1.160000</td>\n",
       "      <td>0.716000</td>\n",
       "      <td>0.894000</td>\n",
       "      <td>2.170000</td>\n",
       "      <td>1.192500</td>\n",
       "      <td>0.692250</td>\n",
       "      <td>0.855500</td>\n",
       "      <td>2.210000</td>\n",
       "      <td>1.232500</td>\n",
       "      <td>0.717000</td>\n",
       "      <td>0.855000</td>\n",
       "      <td>2.550000</td>\n",
       "      <td>1.220000</td>\n",
       "      <td>0.719000</td>\n",
       "      <td>0.859000</td>\n",
       "      <td>3.100000</td>\n",
       "      <td>1.030000</td>\n",
       "      <td>1.090000</td>\n",
       "      <td>1.030000</td>\n",
       "      <td>1.160000</td>\n",
       "      <td>1.120000</td>\n",
       "      <td>1.140000</td>\n",
       "      <td>1.060000</td>\n",
       "      <td>1.000000</td>\n",
       "    </tr>\n",
       "    <tr>\n",
       "      <th>max</th>\n",
       "      <td>5.330000</td>\n",
       "      <td>2.430000</td>\n",
       "      <td>1.740000</td>\n",
       "      <td>6.260000</td>\n",
       "      <td>1.740000</td>\n",
       "      <td>4.190000</td>\n",
       "      <td>2.960000</td>\n",
       "      <td>1.740000</td>\n",
       "      <td>2.170000</td>\n",
       "      <td>4.800000</td>\n",
       "      <td>2.910000</td>\n",
       "      <td>1.740000</td>\n",
       "      <td>2.210000</td>\n",
       "      <td>4.630000</td>\n",
       "      <td>2.730000</td>\n",
       "      <td>1.740000</td>\n",
       "      <td>2.550000</td>\n",
       "      <td>5.770000</td>\n",
       "      <td>2.490000</td>\n",
       "      <td>1.740000</td>\n",
       "      <td>3.100000</td>\n",
       "      <td>10.600000</td>\n",
       "      <td>5.740000</td>\n",
       "      <td>3.940000</td>\n",
       "      <td>6.220000</td>\n",
       "      <td>5.080000</td>\n",
       "      <td>4.320000</td>\n",
       "      <td>3.500000</td>\n",
       "      <td>1.000000</td>\n",
       "    </tr>\n",
       "  </tbody>\n",
       "</table>\n",
       "</div>"
      ],
      "text/plain": [
       "         lepton pT   lepton eta   lepton phi  missing energy magnitude  missing energy phi     jet 1 pt    jet 1 eta    jet 1 phi  jet 1 b-tag     jet 2 pt    jet 2 eta    jet 2 phi  jet 2 b-tag     jet 3 pt    jet 3 eta    jet 3 phi  jet 3 b-tag     jet 4 pt    jet 4 eta    jet 4 phi  jet 4 b-tag         m_jj        m_jjj         m_lv        m_jlv         m_bb        m_wbb       m_wwbb        class\n",
       "count  5000.000000  5000.000000  5000.000000               5000.000000         5000.000000  5000.000000  5000.000000  5000.000000  5000.000000  5000.000000  5000.000000  5000.000000  5000.000000  5000.000000  5000.000000  5000.000000  5000.000000  5000.000000  5000.000000  5000.000000  5000.000000  5000.000000  5000.000000  5000.000000  5000.000000  5000.000000  5000.000000  5000.000000  5000.000000\n",
       "mean      0.978645    -0.014280    -0.018956                  1.005793            0.002528     0.980390     0.025014    -0.007104     0.993678     0.988659    -0.010310    -0.006926     1.006922     0.997004     0.018817     0.003952     1.011994     0.982806     0.005201     0.003349     1.007810     1.038431     1.027201     1.054719     1.023094     0.958464     1.033432     0.960494     0.524600\n",
       "std       0.547025     1.011927     0.997945                  0.591907            1.003337     0.463677     1.002018     1.014559     1.028920     0.476462     1.007983     1.002177     1.045206     0.471681     1.007824     0.999656     1.200416     0.497681     1.007999     1.008904     1.400846     0.619460     0.353984     0.173243     0.427141     0.495720     0.352966     0.306057     0.499444\n",
       "min       0.275000    -2.410000    -1.740000                  0.010000           -1.740000     0.170000    -2.920000    -1.740000     0.000000     0.198000    -2.910000    -1.740000     0.000000     0.265000    -2.720000    -1.740000     0.000000     0.366000    -2.500000    -1.740000     0.000000     0.151000     0.443000     0.339000     0.371000     0.079500     0.413000     0.452000     0.000000\n",
       "25%       0.587000    -0.764250    -0.877500                  0.581000           -0.870000     0.676000    -0.659250    -0.885000     0.000000     0.666000    -0.699000    -0.859500     0.000000     0.664750    -0.679250    -0.858000     0.000000     0.619000    -0.707250    -0.869250     0.000000     0.798750     0.850000     0.986000     0.768000     0.672000     0.826000     0.772750     0.000000\n",
       "50%       0.846000    -0.009305    -0.016050                  0.903500            0.001300     0.891000     0.049500    -0.023500     1.090000     0.891000    -0.004800    -0.030700     1.110000     0.899500     0.045700     0.018800     0.000000     0.877000     0.012900    -0.004700     0.000000     0.898000     0.957000     0.990000     0.922000     0.868000     0.952000     0.877500     1.000000\n",
       "75%       1.220000     0.725500     0.837000                  1.300000            0.866000     1.160000     0.716000     0.894000     2.170000     1.192500     0.692250     0.855500     2.210000     1.232500     0.717000     0.855000     2.550000     1.220000     0.719000     0.859000     3.100000     1.030000     1.090000     1.030000     1.160000     1.120000     1.140000     1.060000     1.000000\n",
       "max       5.330000     2.430000     1.740000                  6.260000            1.740000     4.190000     2.960000     1.740000     2.170000     4.800000     2.910000     1.740000     2.210000     4.630000     2.730000     1.740000     2.550000     5.770000     2.490000     1.740000     3.100000    10.600000     5.740000     3.940000     6.220000     5.080000     4.320000     3.500000     1.000000"
      ]
     },
     "metadata": {},
     "output_type": "display_data"
    }
   ],
   "source": [
    "display(data_train.head())\n",
    "display(data_train.describe())"
   ]
  },
  {
   "cell_type": "code",
   "execution_count": 5,
   "metadata": {},
   "outputs": [],
   "source": [
    "# Split into NumPy arrays\n",
    "X_train = data_train.iloc[:, data_train.columns != 'class'].values\n",
    "y_train = data_train['class'].values\n",
    "X_test = data_test.iloc[:, data_test.columns != 'class'].values\n",
    "y_test = data_test['class'].values"
   ]
  },
  {
   "cell_type": "markdown",
   "metadata": {},
   "source": [
    "<div class=\"exercise\"> <b> Question 1: A Single Model [20 pts]</b> </div>\n",
    "\n",
    "We start by fitting a basic model we can compare the other models to. We'll pick a decision tree as the base model, because we'll later include random forests and want a fair comparison. We'll tune the decision tree using cross-validation. As usual, we'll be tuning the maximum tree depth; we refer to this parameter as \"depth\" for simplicity.\n",
    "\n",
    "Since we will only be using tree-based methods in this homework, we do not need to standardize or normalize the predictors."
   ]
  },
  {
   "cell_type": "markdown",
   "metadata": {},
   "source": [
    "\n",
    "\n",
    "**1.1**: Fit a decision tree model to the training set. Choose a range of tree depths to evaluate. Plot the estimated performance +/- 2 standard deviations for each depth using 5-fold cross validation. Also include the training set performance in your plot, but set the y-axis to focus on the cross-validation performance.\n",
    "\n",
    "*Hint*: use `plt.fill_between` to shade the region.\n",
    "\n",
    "**1.2** Select an appropriate depth and justify your choice. Using your cross-validation estimates, report the mean +/- 2 stdev. Then report the classification accuracy on the test set. (Store the training and test accuracies in variables to refer to in a later question.)\n",
    "\n",
    "**1.3** What is the mechanism by which limiting the depth of the tree avoids over-fitting? What is one downside of limiting the tree depth? Your answer should refer to the bias-variance trade-off."
   ]
  },
  {
   "cell_type": "markdown",
   "metadata": {},
   "source": [
    "**Answers**"
   ]
  },
  {
   "cell_type": "markdown",
   "metadata": {},
   "source": [
    "**1.1**"
   ]
  },
  {
   "cell_type": "code",
   "execution_count": 40,
   "metadata": {},
   "outputs": [],
   "source": [
    "def get_best_DecisionTree(x_train, y_train, max_depth):\n",
    "    #Returns best model and cvscore from training set cross validation\n",
    "    #also plots accuracy score\n",
    "    depths = range(1,max_depth+1)\n",
    "    cvmeans=[] #list of mean cross validation scores\n",
    "    cvstds=[]\n",
    "    scores_acc = [] #list of accuracy scores\n",
    "    best_score = 0 #best cross validation mean score\n",
    "    for i in depths:\n",
    "        model = DecisionTreeClassifier(max_depth=i, random_state=11).fit(x_train, y_train)\n",
    "        cv = cross_val_score(model, x_train, y_train, cv=5)\n",
    "        cvmean = cv.mean()\n",
    "        cvstd = cv.std()\n",
    "        cvmeans.append(cvmean)\n",
    "        cvstds.append(cvstd)\n",
    "        y_pred = model.predict(x_train)\n",
    "        score_acc = accuracy_score(y_train, y_pred)\n",
    "        scores_acc.append(score_acc)\n",
    "        if cvmean > best_score:\n",
    "            best_score=cvmean\n",
    "            best_model=model\n",
    "    cvmeans=np.array(cvmeans)\n",
    "    cvstds=np.array(cvstds)\n",
    "    plt.figure(figsize=(16,10))\n",
    "    plt.plot(depths, cvmeans, \"*-\", label=\"Mean Cross Validation Score\")\n",
    "    plt.fill_between(depths, cvmeans - 2*cvstds, cvmeans + 2*cvstds, alpha=0.3)\n",
    "    plt.plot(depths, scores_acc, \".-\", label=\"Accuracy Score\")\n",
    "    plt.title(\"Scores for Varying Depth Decision Trees\")\n",
    "    plt.xlabel(\"Depth\")\n",
    "    plt.ylabel(\"Score\")\n",
    "    plt.xticks(depths)\n",
    "    plt.ylim(.5,1)\n",
    "    plt.legend()\n",
    "    return best_model, best_score"
   ]
  },
  {
   "cell_type": "code",
   "execution_count": 41,
   "metadata": {
    "scrolled": false
   },
   "outputs": [
    {
     "data": {
      "image/png": "[encoded data removed]",
      "text/plain": [
       "<Figure size 1152x720 with 1 Axes>"
      ]
     },
     "metadata": {},
     "output_type": "display_data"
    }
   ],
   "source": [
    "model_DT, best_score = get_best_DecisionTree(X_train, y_train, 12)\n",
    "#set the y-axis to focus on the cross-validation performance???????????????"
   ]
  },
  {
   "cell_type": "markdown",
   "metadata": {},
   "source": [
    "**1.2**"
   ]
  },
  {
   "cell_type": "code",
   "execution_count": 42,
   "metadata": {},
   "outputs": [
    {
     "name": "stdout",
     "output_type": "stream",
     "text": [
      "The best decision tree had depth 5 with a mean cross validation score of 0.64 (+- 0.02)\n"
     ]
    }
   ],
   "source": [
    "cv = cross_val_score(model_DT, X_train, y_train, cv=5)\n",
    "print(\"The best decision tree had depth %i with a mean cross validation score of %.2f (+- %.2f)\"\n",
    "      %(model_DT.max_depth,cv.mean(),2*cv.std()))"
   ]
  },
  {
   "cell_type": "code",
   "execution_count": 91,
   "metadata": {},
   "outputs": [
    {
     "name": "stdout",
     "output_type": "stream",
     "text": [
      "On the training set, the classification accuracy is 0.68\n",
      "On the test set, the classification accuracy is 0.65\n"
     ]
    }
   ],
   "source": [
    "y_pred_test = model_DT.predict(X_test)\n",
    "y_pred_train = model_DT.predict(X_train)\n",
    "acc_model_DT_train = accuracy_score(y_train, y_pred_train)\n",
    "acc_model_DT_test = accuracy_score(y_test, y_pred_test)\n",
    "print(\"On the training set, the classification accuracy is %.2f\"%acc_model_DT_train)\n",
    "print(\"On the test set, the classification accuracy is %.2f\"%acc_model_DT_test)"
   ]
  },
  {
   "cell_type": "markdown",
   "metadata": {},
   "source": [
    "A depth 5 decision tree is appropriate. It achieves the best 5 fold mean cross validation score. Based on its training and test accuracies, we observe the model is not terrible but not great. Additionally, the test set accuracy is close to the training set accuracy, so it does not seem that the model is overfit."
   ]
  },
  {
   "cell_type": "markdown",
   "metadata": {},
   "source": [
    "**1.3** What is the mechanism by which limiting the depth of the tree avoids over-fitting? What is one downside of limiting the tree depth? Your answer should refer to the bias-variance trade-off."
   ]
  },
  {
   "cell_type": "markdown",
   "metadata": {},
   "source": [
    "Deeper decision trees tend to overfit. This is because the decision tree will segment the training data feature space until each region has 100% purity, **Something something something.......**"
   ]
  },
  {
   "cell_type": "markdown",
   "metadata": {},
   "source": [
    "<div class=\"exercise\"> <b> Question 2: Bagging [25 pts]</b> </div>\n",
    "\n",
    "Bagging is the technique of building the same model on multiple bootstraps from the data and combining each model's prediction to get an overall classification. In this question we build an example by hand and study how the number of bootstrapped datasets impacts the accuracy of the resulting classification."
   ]
  },
  {
   "cell_type": "markdown",
   "metadata": {},
   "source": [
    "\n",
    "\n",
    "**2.1** Choose a tree depth that will overfit the training set. What evidence leads you to believe that this depth will overfit? Assign your choice to a variable here. (You may want to explore different settings for this value in the problems below.)\n",
    "\n",
    "**2.2** Create 45 bootstrapped replications of the original training data, and fit a decision tree to each. Use the tree depth you just chose in 2.1. Record each tree's prediction. In particular, produce a dataset like those below, where each row is a training (or test) example, each column is one of the trees, and each entry is that tree's prediction for that example. (Labeling the rows and columns is optional.)\n",
    "\n",
    "Store these results as `bagging_train` and `bagging_test`. Don't worry about visualizing these results yet.\n",
    "\n",
    "**2.3** _Aggregate_ all 45 _bootstrapped_ models to get a combined prediction for each training and test point: predict a 1 if and only if a majority of the models predict that example to be from class 1. What accuracy does this *bagging* model achieve on the test set? Write an assertion that verifies that this test-set accuracy is at least as good as the accuracy for the model you fit in Question 1.\n",
    "\n",
    "**2.4** We want to know how the number of bootstraps affects our bagging ensemble's performance. Use the `running_predictions` function (given below) to get the model's accuracy score when using only 1,2,3,4,... of the bootstrapped models. Make a plot of training and test set accuracies as a function of number of bootstraps.\n",
    "\n",
    "On your plot, also include horizontal lines for two baselines:\n",
    "- the test accuracy of the best model from question 1\n",
    "- the test accuracy of a single tree with the tree depth you chose in 2.1, trained on the full training set.\n",
    "\n",
    "**2.5** Referring to your graph from 2.4, compare the performance of bagging against the baseline of a single depth tree from 2.1. Explain the differences you see.\n",
    "\n",
    "**2.6** Bagging and limiting tree depth both affect how much the model overfits. Compare and contrast these two approaches. Your answer should refer to your graph in 2.4 and may duplicate something you said in your answer to 1.5.\n",
    "\n",
    "**2.7**: In what ways might our bagging classifier be overfitting the data? In what ways might it be underfitting?"
   ]
  },
  {
   "cell_type": "markdown",
   "metadata": {},
   "source": [
    "**Hints**\n",
    "- Use `resample` from sklearn to easily bootstrap the x and y data.\n",
    "- use `np.mean` to easily test for majority. If a majority of models vote 1, what does that imply about the mean?"
   ]
  },
  {
   "cell_type": "markdown",
   "metadata": {},
   "source": [
    "**Answers**:"
   ]
  },
  {
   "cell_type": "markdown",
   "metadata": {},
   "source": [
    "**2.1**"
   ]
  },
  {
   "cell_type": "markdown",
   "metadata": {},
   "source": [
    "For this question, we choose depth 12. Its cross validation mean score is relatively the same (a little worse) as the best choice tree with depth 5 from question 1.2. However, the accuracy score is very high, over 0.9, while the depth 5 tree had a much lower accuracy score. This discrepency between the cross validation score and the accuracy score leads us to believe that the depth 12 tree is overfit, making it a good choice for this question. "
   ]
  },
  {
   "cell_type": "code",
   "execution_count": 44,
   "metadata": {},
   "outputs": [],
   "source": [
    "model_DT_overfit = DecisionTreeClassifier(max_depth=12).fit(X_train,y_train)"
   ]
  },
  {
   "cell_type": "markdown",
   "metadata": {},
   "source": [
    "**2.2**"
   ]
  },
  {
   "cell_type": "markdown",
   "metadata": {},
   "source": [
    "**Structure of `bagging_train` and `bagging_test`:**\n",
    "\n",
    "`bagging_train`:\n",
    "\n",
    "|     |bootstrap model 1's prediction|bootstrap model 2's prediction|...|bootstrap model 45's prediction|\n",
    "| --- | --- | --- | --- |\n",
    "|training row 1| binary value | binary value|... |binary value|\n",
    "|training row 2| binary value| binary value|... |binary value|\n",
    "|...| ...| ...|... |... |\n",
    "\n",
    "`bagging_test`:\n",
    "\n",
    "|     |bootstrap model 1's prediction|bootstrap model 2's prediction|...|bootstrap model 45's prediction|\n",
    "| --- | --- | --- | --- |\n",
    "|test row 1| binary value | binary value|... |binary value|\n",
    "|test row 2| binary value| binary value|... |binary value|\n",
    "|...| ...| ...|... |... |\n"
   ]
  },
  {
   "cell_type": "code",
   "execution_count": 159,
   "metadata": {},
   "outputs": [],
   "source": [
    "def create_bag_dfs(X_train, y_train, X_test, y_test, replications, depth):\n",
    "    rep_range = range(1,replications+1)\n",
    "    df_bag_train = pd.DataFrame(columns=[\"Bootstap \"+str(i)+\" prediction\" for i in rep_range])\n",
    "    df_bag_test = pd.DataFrame(columns=[\"Bootstap \"+str(i)+\" prediction\" for i in rep_range])\n",
    "    trees=[] #list of tree objects... needed later\n",
    "    for i in rep_range:\n",
    "        x_boot, y_boot = resample(X_train, y_train) #resample form training data\n",
    "        model=DecisionTreeClassifier(max_depth=depth, random_state=11).fit(x_boot,y_boot)\n",
    "        trees.append(model)\n",
    "        y_pred_train = model.predict(X_train) #training prediction\n",
    "        y_pred_test = model.predict(X_test) #test prediction using model fitted to resampled training data\n",
    "        df_bag_train.loc[:,\"Bootstap \"+str(i)+\" prediction\"] = y_pred_train\n",
    "        df_bag_test.loc[:,\"Bootstap \"+str(i)+\" prediction\"] = y_pred_test\n",
    "    return df_bag_train, df_bag_test, trees"
   ]
  },
  {
   "cell_type": "code",
   "execution_count": 160,
   "metadata": {},
   "outputs": [],
   "source": [
    "replications = 45\n",
    "depth = 12\n",
    "bagging_train, bagging_test, trees = create_bag_dfs(X_train,y_train,X_test,y_test,replications,depth)"
   ]
  },
  {
   "cell_type": "markdown",
   "metadata": {},
   "source": [
    "**2.3**"
   ]
  },
  {
   "cell_type": "code",
   "execution_count": 161,
   "metadata": {},
   "outputs": [],
   "source": [
    "y_pred_train_agg = [round(np.mean(row)) for index, row in bagging_train.iterrows()]\n",
    "y_pred_test_agg = [round(np.mean(row)) for index, row in bagging_test.iterrows()]"
   ]
  },
  {
   "cell_type": "code",
   "execution_count": 182,
   "metadata": {},
   "outputs": [
    {
     "name": "stdout",
     "output_type": "stream",
     "text": [
      "On the training set, the aggregated prediction accuracy is 0.97\n",
      "On the test set, the aggregated prediction accuracy is 0.69\n"
     ]
    }
   ],
   "source": [
    "acc_model_DT_agg_train = accuracy_score(y_train,y_pred_train_agg)\n",
    "acc_model_DT_agg_test = accuracy_score(y_test,y_pred_test_agg)\n",
    "print(\"On the training set, the aggregated prediction accuracy is %.2f\"%acc_model_DT_agg_train)\n",
    "print(\"On the test set, the aggregated prediction accuracy is %.2f\"%acc_model_DT_agg_test)"
   ]
  },
  {
   "cell_type": "code",
   "execution_count": 158,
   "metadata": {},
   "outputs": [],
   "source": [
    "assert accuracy_score(y_test,y_pred_test_agg) >= acc_model_DT_test, \"Accuracy too low\""
   ]
  },
  {
   "cell_type": "markdown",
   "metadata": {},
   "source": [
    "**2.4**"
   ]
  },
  {
   "cell_type": "code",
   "execution_count": 109,
   "metadata": {},
   "outputs": [],
   "source": [
    "def running_predictions(prediction_dataset, targets):\n",
    "    \"\"\"A function to predict examples' class via the majority among trees (ties are predicted as 0)\n",
    "    \n",
    "    Inputs:\n",
    "      prediction_dataset - a (n_examples by n_sub_models) dataset, where each entry [i,j] is sub-model j's prediction\n",
    "          for example i\n",
    "      targets - the true class labels\n",
    "    \n",
    "    Returns:\n",
    "      a vector where vec[i] is the model's accuracy when using just the first i+1 sub-models\n",
    "    \"\"\"\n",
    "    \n",
    "    n_trees = prediction_dataset.shape[1]\n",
    "    \n",
    "    # find the running percentage of models voting 1 as more models are considered\n",
    "    running_percent_1s = np.cumsum(prediction_dataset, axis=1)/np.arange(1,n_trees+1)\n",
    "    \n",
    "    # predict 1 when the running average is above 0.5\n",
    "    running_conclusions = running_percent_1s > 0.5\n",
    "    \n",
    "    # check whether the running predictions match the targets\n",
    "    running_correctnesss = running_conclusions == targets.reshape(-1,1)\n",
    "    \n",
    "    return np.mean(running_correctnesss, axis=0)\n",
    "    # returns a 1-d series of the accuracy of using the first n trees to predict the targets"
   ]
  },
  {
   "cell_type": "code",
   "execution_count": 130,
   "metadata": {
    "scrolled": false
   },
   "outputs": [],
   "source": [
    "train_running_predictions = running_predictions(bagging_train.values,y_train)\n",
    "test_running_predictions = running_predictions(bagging_test.values,y_test)"
   ]
  },
  {
   "cell_type": "code",
   "execution_count": 181,
   "metadata": {},
   "outputs": [
    {
     "data": {
      "image/png": "[encoded data removed]",
      "text/plain": [
       "<Figure size 1152x720 with 1 Axes>"
      ]
     },
     "metadata": {},
     "output_type": "display_data"
    }
   ],
   "source": [
    "y_pred_test_overfit = model_DT_overfit.predict(X_test)\n",
    "acc_model_DT_overfit_test =accuracy_score(y_test,y_pred_test_overfit)\n",
    "\n",
    "y_pred_train_overfit = model_DT_overfit.predict(X_train)\n",
    "acc_model_DT_overfit_train =accuracy_score(y_train,y_pred_train_overfit) #for later\n",
    "\n",
    "plt.figure(figsize=(16,10))\n",
    "plt.plot(train_running_predictions, \"*-\", label=\"Training Accuracy\")\n",
    "plt.plot(test_running_predictions, \".-\", label=\"Test Accuracy\")\n",
    "plt.axhline(y=acc_model_DT_test, color=\"orange\", label=\"Depth 5 DT Accuracy\")\n",
    "plt.axhline(y=acc_model_DT_overfit_test, color=\"r\", label=\"Overfit DT Accuracy\")\n",
    "plt.title(\"Accuracy vs Number of Bootstraps Used\",fontsize=18)\n",
    "plt.xlabel(\"Accuracy\",fontsize=14)\n",
    "plt.ylabel(\"Number of Bootstraps\",fontsize=14)\n",
    "plt.legend(fontsize=14);"
   ]
  },
  {
   "cell_type": "markdown",
   "metadata": {},
   "source": [
    "**2.5**"
   ]
  },
  {
   "cell_type": "markdown",
   "metadata": {},
   "source": [
    "**your answer here**\n"
   ]
  },
  {
   "cell_type": "markdown",
   "metadata": {},
   "source": [
    "**2.6**"
   ]
  },
  {
   "cell_type": "markdown",
   "metadata": {},
   "source": [
    "**your answer here**\n"
   ]
  },
  {
   "cell_type": "markdown",
   "metadata": {},
   "source": [
    "**2.7**"
   ]
  },
  {
   "cell_type": "markdown",
   "metadata": {},
   "source": [
    "**your answer here**\n"
   ]
  },
  {
   "cell_type": "markdown",
   "metadata": {},
   "source": [
    "<div class=\"exercise\"> <b> Question 3: Random Forests [15 pts]</b> </div>\n",
    "\n",
    "Random Forests are closely related to the bagging model we built by hand in question 2. In this question we compare our by-hand results with the results of using `RandomForestClassifier` directly."
   ]
  },
  {
   "cell_type": "markdown",
   "metadata": {},
   "source": [
    "\n",
    "\n",
    "**3.1** Fit a `RandomForestClassifier` to the original `X_train` data using the same tree depth and number of trees that you used in Question 2.2. Evaluate its accuracy on the test set.\n",
    "\n",
    "**3.2** For each of the decision trees you fit in the bagging process, how many times is each feature used at the top node? How about for each tree in the random forest you just fit? What about the process of training the Random Forest causes this difference? What implication does this observation have on the accuracy of bagging vs Random Forest?\n",
    "\n",
    "**Hint**: A decision tree's top feature is stored in `model.tree_.feature[0]`. A random forest object stores its decision trees in its `.estimators_` attribute.\n",
    "\n",
    "**3.3**: Make a table of the training and test accuracy for the following models:\n",
    "\n",
    "- Single tree with best depth chosen by cross-validation (from Question 1)\n",
    "- A single overfit tree trained on all data (from Question 2, using the depth you chose there)\n",
    "- Bagging 45 such trees (from Question 2)\n",
    "- A Random Forest of 45 such trees (from Question 3.1)\n",
    "\n",
    "(This problem should not require fitting any new models, though you may need to go back and store the accuracies from models you fit previously.)\n",
    "\n",
    "What is the relative performance of each model on the training set? On the test set? Comment on how these relationships make sense (or don't make sense) in light of how each model treats the bias-variance trade-off."
   ]
  },
  {
   "cell_type": "markdown",
   "metadata": {},
   "source": [
    "**Answers**:"
   ]
  },
  {
   "cell_type": "markdown",
   "metadata": {},
   "source": [
    "**3.1**"
   ]
  },
  {
   "cell_type": "code",
   "execution_count": 149,
   "metadata": {},
   "outputs": [],
   "source": [
    "model_RF_overfit = RandomForestClassifier(n_estimators=45,max_depth=12).fit(X_train,y_train)"
   ]
  },
  {
   "cell_type": "code",
   "execution_count": 152,
   "metadata": {},
   "outputs": [
    {
     "name": "stdout",
     "output_type": "stream",
     "text": [
      "On the training set, the random forest classification accuracy is 0.97\n",
      "On the test set, the random forest classification accuracy is 0.69\n"
     ]
    }
   ],
   "source": [
    "acc_model_RF_overfit_train = accuracy_score(y_train,model_RF_overfit.predict(X_train))\n",
    "acc_model_RF_overfit_test = accuracy_score(y_test,model_RF_overfit.predict(X_test))\n",
    "print(\"On the training set, the random forest classification accuracy is %.2f\"%acc_model_RF_overfit_train)\n",
    "print(\"On the test set, the random forest classification accuracy is %.2f\"%acc_model_RF_overfit_test)"
   ]
  },
  {
   "cell_type": "markdown",
   "metadata": {},
   "source": [
    "**your answer here**\n"
   ]
  },
  {
   "cell_type": "markdown",
   "metadata": {},
   "source": [
    "**3.2** "
   ]
  },
  {
   "cell_type": "code",
   "execution_count": 163,
   "metadata": {},
   "outputs": [],
   "source": [
    "top_features_DT = [tree.tree_.feature[0] for tree in trees]\n",
    "top_features_RF = [tree.tree_.feature[0] for tree in model_RF_overfit.estimators_]"
   ]
  },
  {
   "cell_type": "code",
   "execution_count": 173,
   "metadata": {},
   "outputs": [
    {
     "data": {
      "text/plain": [
       "<matplotlib.legend.Legend at 0x1a1b993da0>"
      ]
     },
     "execution_count": 173,
     "metadata": {},
     "output_type": "execute_result"
    },
    {
     "data": {
      "image/png": "[encoded data removed]",
      "text/plain": [
       "<Figure size 1152x720 with 1 Axes>"
      ]
     },
     "metadata": {},
     "output_type": "display_data"
    }
   ],
   "source": [
    "plt.figure(figsize=(16,10))\n",
    "plt.hist(top_features_DT, bins=1, label=\"Bootstrapped Trees\")\n",
    "plt.hist(top_features_RF, label=\"Random Forest\")\n",
    "plt.title(\"Top Predictors Histogram\", fontsize=18)\n",
    "plt.xlabel(\"Count\", fontsize=14)\n",
    "plt.ylabel(\"Number of Predictors\",fontsize=14)\n",
    "plt.legend(fontsize=14)"
   ]
  },
  {
   "cell_type": "markdown",
   "metadata": {},
   "source": [
    "**3.3** What is the relative performance of each model on the training set? On the test set? Comment on how these relationships make sense (or don't make sense) in light of how each model treats the bias-variance trade-off."
   ]
  },
  {
   "cell_type": "markdown",
   "metadata": {},
   "source": [
    "Fill in the following table (ideally in code, but ok to fill in this Markdown cell).\n",
    "\n",
    "\n",
    "| classifier | training accuracy | test accuracy |\n",
    "| --- | --- | --- |\n",
    "| single tree with best depth chosen by CV | | |\n",
    "| single depth-X tree | | |\n",
    "| bagging 45 depth-X trees | | |\n",
    "| Random Forest of 45 depth-X trees | | |"
   ]
  },
  {
   "cell_type": "code",
   "execution_count": 184,
   "metadata": {},
   "outputs": [
    {
     "data": {
      "text/html": [
       "<div>\n",
       "<style scoped>\n",
       "    .dataframe tbody tr th:only-of-type {\n",
       "        vertical-align: middle;\n",
       "    }\n",
       "\n",
       "    .dataframe tbody tr th {\n",
       "        vertical-align: top;\n",
       "    }\n",
       "\n",
       "    .dataframe thead th {\n",
       "        text-align: right;\n",
       "    }\n",
       "</style>\n",
       "<table border=\"1\" class=\"dataframe\">\n",
       "  <thead>\n",
       "    <tr style=\"text-align: right;\">\n",
       "      <th></th>\n",
       "      <th>Training Accuracy</th>\n",
       "      <th>Test Accuracy</th>\n",
       "    </tr>\n",
       "  </thead>\n",
       "  <tbody>\n",
       "    <tr>\n",
       "      <th>single tree with best depth chosen by CV</th>\n",
       "      <td>0.6812</td>\n",
       "      <td>0.648</td>\n",
       "    </tr>\n",
       "    <tr>\n",
       "      <th>single depth-12 tree</th>\n",
       "      <td>0.927</td>\n",
       "      <td>0.6072</td>\n",
       "    </tr>\n",
       "    <tr>\n",
       "      <th>bagging 45 depth-12 trees</th>\n",
       "      <td>0.9706</td>\n",
       "      <td>0.6878</td>\n",
       "    </tr>\n",
       "    <tr>\n",
       "      <th>Random Forest of 45 depth-12 trees</th>\n",
       "      <td>0.9728</td>\n",
       "      <td>0.6914</td>\n",
       "    </tr>\n",
       "  </tbody>\n",
       "</table>\n",
       "</div>"
      ],
      "text/plain": [
       "                                         Training Accuracy Test Accuracy\n",
       "single tree with best depth chosen by CV            0.6812         0.648\n",
       "single depth-12 tree                                 0.927        0.6072\n",
       "bagging 45 depth-12 trees                           0.9706        0.6878\n",
       "Random Forest of 45 depth-12 trees                  0.9728        0.6914"
      ]
     },
     "execution_count": 184,
     "metadata": {},
     "output_type": "execute_result"
    }
   ],
   "source": [
    "df_scores = pd.DataFrame(index=[\"single tree with best depth chosen by CV\",\"single depth-12 tree\",\n",
    "                               \"bagging 45 depth-12 trees\", \"Random Forest of 45 depth-12 trees\"],\n",
    "                        columns=[\"Training Accuracy\",\"Test Accuracy\"])\n",
    "df_scores[\"Training Accuracy\"][\"single tree with best depth chosen by CV\"] = acc_model_DT_train\n",
    "df_scores[\"Test Accuracy\"][\"single tree with best depth chosen by CV\"] = acc_model_DT_test\n",
    "df_scores[\"Training Accuracy\"][\"single depth-12 tree\"] = acc_model_DT_overfit_train\n",
    "df_scores[\"Test Accuracy\"][\"single depth-12 tree\"] = acc_model_DT_overfit_test\n",
    "df_scores[\"Training Accuracy\"][\"bagging 45 depth-12 trees\"] = acc_model_DT_agg_train\n",
    "df_scores[\"Test Accuracy\"][\"bagging 45 depth-12 trees\"] = acc_model_DT_agg_test\n",
    "df_scores[\"Training Accuracy\"][\"Random Forest of 45 depth-12 trees\"] = acc_model_RF_overfit_train\n",
    "df_scores[\"Test Accuracy\"][\"Random Forest of 45 depth-12 trees\"] = acc_model_RF_overfit_test\n",
    "df_scores"
   ]
  },
  {
   "cell_type": "markdown",
   "metadata": {},
   "source": [
    "**your answer here - Write some shit............**\n"
   ]
  },
  {
   "cell_type": "markdown",
   "metadata": {},
   "source": [
    "<div class=\"exercise\"> <b> Question 4: Boosting [15 pts]</b> </div>\n",
    "\n",
    "In this question we explore a different kind of ensemble method, boosting, where each new model is trained on a dataset weighted towards observations that the current set of models predicts incorrectly. \n",
    "\n",
    "We'll focus on the AdaBoost flavor of boosting and examine what happens to the ensemble model's accuracy as the algorithm adds more predictors to the ensemble."
   ]
  },
  {
   "cell_type": "markdown",
   "metadata": {},
   "source": [
    "\n",
    "\n",
    "**4.1** We'll motivate AdaBoost by noticing patterns in the errors that a single classifier makes. Fit `tree1`, a decision tree with depth 3, to the training data. For each predictor, make a plot that compares two distributions: the values of that predictor for examples that `tree1` classifies correctly, and the values of that predictor for examples that `tree1` classifies incorrectly. Do you notice any predictors for which the distributions are clearly different?\n",
    "\n",
    "**4.2** The following code attempts to implement a simplified version of boosting using just two classifiers (described below). However, it has both stylistic and functionality flaws. First, imagine that you are a grader for a Data Science class; write a comment for the student who submitted this code. Then, imagine that you're the TF writing the solutions; make an excellent example implementation. Finally, use your corrected code to compare the performance of `tree1` and the boosted algorithm on both the training and test set.\n",
    "\n",
    "**4.3** Now let's use the sklearn implementation of AdaBoost: Use `AdaBoostClassifier` to fit another ensemble to `X_train`. Use a decision tree of depth 3 as the base learner and a learning rate 0.05, and run the boosting for 800 iterations. Make a plot of the effect of the number of estimators/iterations on the model's train and test accuracy.\n",
    "\n",
    "*Hint*: The `staged_score` method provides the accuracy numbers you'll need. You'll need to use `list()` to convert the \"generator\" it returns into an ordinary list.\n",
    "\n",
    "**4.4** Repeat the plot above for a base learner with depth of (1, 2, 3, 4). What trends do you see in the training and test accuracy?\n",
    "\n",
    "(It's okay if your code re-fits the depth-3 classifier instead of reusing the results from the previous problem.)\n",
    "\n",
    "**4.5** Based on the plot you just made, what combination of base learner depth and number of iterations seems optimal? Why? How does the performance of this model compare with the performance of the ensembles you considered above?"
   ]
  },
  {
   "cell_type": "markdown",
   "metadata": {},
   "source": [
    "**Answers**"
   ]
  },
  {
   "cell_type": "markdown",
   "metadata": {},
   "source": [
    "**4.1**"
   ]
  },
  {
   "cell_type": "markdown",
   "metadata": {},
   "source": [
    "*Hints*:\n",
    "- If you have `fig, axs = plt.subplots(...)`, then `axs.ravel()` gives a list of each plot in reading order.\n",
    "- [`sns.kdeplot`](https://seaborn.pydata.org/generated/seaborn.kdeplot.html) takes `ax` and `label` parameters."
   ]
  },
  {
   "cell_type": "code",
   "execution_count": 18,
   "metadata": {},
   "outputs": [],
   "source": [
    "# your code here\n"
   ]
  },
  {
   "cell_type": "code",
   "execution_count": 19,
   "metadata": {},
   "outputs": [],
   "source": [
    "# your code here\n"
   ]
  },
  {
   "cell_type": "markdown",
   "metadata": {},
   "source": [
    "**your answer here**\n"
   ]
  },
  {
   "cell_type": "markdown",
   "metadata": {},
   "source": [
    "**4.2**"
   ]
  },
  {
   "cell_type": "markdown",
   "metadata": {},
   "source": [
    "The intended functionality is the following:\n",
    "1. Fit `tree1`, a decision tree with max depth 3.\n",
    "2. Construct an array of sample weights. Give a weight of 1 to samples that `tree1` classified correctly, and 2 to samples that `tree1` misclassified.\n",
    "3. Fit `tree2`, another depth-3 decision tree, using those sample weights.\n",
    "4. To predict, compute the probabilities that `tree1` and `tree2` each assign to the positive class. Take the average of those two probabilities as the prediction probability."
   ]
  },
  {
   "cell_type": "code",
   "execution_count": 20,
   "metadata": {},
   "outputs": [],
   "source": [
    "def boostmeup():\n",
    "    tree = DecisionTreeClassifier(max_depth=3)\n",
    "    tree1 = tree.fit(X_train, y_train)\n",
    "    sample_weight = np.ones(len(X_train))\n",
    "    q = 0\n",
    "    for idx in range(len(X_train)):\n",
    "      if tree1.predict([X_train[idx]]) != y_train[idx]:\n",
    "         sample_weight[idx] = sample_weight[idx] * 2\n",
    "         q = q + 1\n",
    "    print(\"tree1 accuracy:\", q / len(X_train))\n",
    "    tree2 = tree.fit(X_train, y_train, sample_weight=sample_weight)\n",
    "    \n",
    "# Train\n",
    "    q = 0\n",
    "    for idx in range(len(X_train)):\n",
    "        t1p = tree1.predict_proba([X_train[idx]])[0][1]\n",
    "        t2p = tree2.predict_proba([X_train[idx]])[0][1]\n",
    "        m = (t1p + t2p) / 2\n",
    "        if m > .5:\n",
    "            if y_train[idx] == True:\n",
    "                q = q + 0\n",
    "            else:\n",
    "                q = q + 1\n",
    "        else:\n",
    "            if y_train[idx] == True:\n",
    "                q = q + 1\n",
    "            else:\n",
    "                q = 0\n",
    "    print(\"Boosted accuracy:\", q / len(X_train))\n",
    "\n",
    "# Test\n",
    "    q = 0\n",
    "    for idx in range(len(X_test)):\n",
    "        t1p = tree1.predict_proba([X_test[idx]])[0][1]\n",
    "        t2p = tree2.predict_proba([X_test[idx]])[0][1]\n",
    "        m = (t1p + t2p) / 2\n",
    "        if m > .5:\n",
    "            if y_train[idx] == True:\n",
    "                q = q + 0\n",
    "            else:\n",
    "                q = q + 1\n",
    "        else:\n",
    "            if y_train[idx] == True:\n",
    "                q = q + 1\n",
    "            else:\n",
    "                q = 0\n",
    "    print(\"Boosted accuracy:\", q / len(X_test))\n",
    "\n",
    "boostmeup()"
   ]
  },
  {
   "cell_type": "markdown",
   "metadata": {},
   "source": [
    "**Your answer here**\n"
   ]
  },
  {
   "cell_type": "code",
   "execution_count": 21,
   "metadata": {},
   "outputs": [],
   "source": [
    "# your code here\n"
   ]
  },
  {
   "cell_type": "markdown",
   "metadata": {},
   "source": [
    "**4.3**"
   ]
  },
  {
   "cell_type": "code",
   "execution_count": 22,
   "metadata": {},
   "outputs": [],
   "source": [
    "# your code here\n"
   ]
  },
  {
   "cell_type": "markdown",
   "metadata": {},
   "source": [
    "**4.4**"
   ]
  },
  {
   "cell_type": "code",
   "execution_count": 23,
   "metadata": {},
   "outputs": [],
   "source": [
    "# your code here\n"
   ]
  },
  {
   "cell_type": "code",
   "execution_count": 24,
   "metadata": {},
   "outputs": [],
   "source": [
    "# your code here\n"
   ]
  },
  {
   "cell_type": "markdown",
   "metadata": {},
   "source": [
    "**Your answer here**\n"
   ]
  },
  {
   "cell_type": "markdown",
   "metadata": {},
   "source": [
    "**4.5**"
   ]
  },
  {
   "cell_type": "code",
   "execution_count": 25,
   "metadata": {},
   "outputs": [],
   "source": [
    "# your code here\n"
   ]
  },
  {
   "cell_type": "markdown",
   "metadata": {},
   "source": [
    "**Your answer here**\n"
   ]
  },
  {
   "cell_type": "markdown",
   "metadata": {},
   "source": [
    "<div class=\"exercise\"> <b> Question 5: Understanding [15 pts]</b> </div>\n",
    "\n",
    "This question is an overall test of your knowledge of this homework's material. You may need to refer to lecture notes and other material outside this homework to answer these questions."
   ]
  },
  {
   "cell_type": "markdown",
   "metadata": {},
   "source": [
    "\n",
    "\n",
    "**5.1** How do boosting and bagging relate: what is common to both, and what is unique to each?\n",
    "\n",
    "\n",
    "**5.2** Reflect on the overall performance of all of the different classifiers you have seen throughout this assignment. Which performed best? Why do you think that may have happened?\n",
    "\n",
    "**5.3** What is the impact of having too many trees in boosting and in bagging? In which instance is it worse to have too many trees?\n",
    "\n",
    "**5.4** Which technique, boosting or bagging, is better suited to parallelization, where you could have multiple computers working on a problem at the same time?\n",
    "\n",
    "**5.5** Which of these techniques can be extended to regression tasks? How?"
   ]
  },
  {
   "cell_type": "markdown",
   "metadata": {},
   "source": [
    "**Answers**:"
   ]
  },
  {
   "cell_type": "markdown",
   "metadata": {},
   "source": [
    "**5.1**"
   ]
  },
  {
   "cell_type": "markdown",
   "metadata": {},
   "source": [
    "**Your answer here**\n"
   ]
  },
  {
   "cell_type": "markdown",
   "metadata": {},
   "source": [
    "**5.2**"
   ]
  },
  {
   "cell_type": "markdown",
   "metadata": {},
   "source": [
    "**your answer here**\n"
   ]
  },
  {
   "cell_type": "markdown",
   "metadata": {},
   "source": [
    "**5.3**"
   ]
  },
  {
   "cell_type": "markdown",
   "metadata": {},
   "source": [
    "**Your answer here**\n"
   ]
  },
  {
   "cell_type": "markdown",
   "metadata": {},
   "source": [
    "**5.4**"
   ]
  },
  {
   "cell_type": "markdown",
   "metadata": {},
   "source": [
    "**Your answer here**\n"
   ]
  },
  {
   "cell_type": "markdown",
   "metadata": {},
   "source": [
    "**5.5**"
   ]
  },
  {
   "cell_type": "markdown",
   "metadata": {},
   "source": [
    "**your answer here**\n"
   ]
  },
  {
   "cell_type": "markdown",
   "metadata": {},
   "source": [
    "<div class=\"exercise\"> <b> Question 6: Explaining Complex Concepts Clearly [10 pts]</b> </div>"
   ]
  },
  {
   "cell_type": "markdown",
   "metadata": {},
   "source": [
    "One of the core skills of a data scientist is to be able to explain complex concepts clearly. To practice this skill, you'll make a short presentation of one of the approaches we have recently studied.\n",
    "\n",
    "**Choose one of the following topics:**\n",
    "\n",
    "- Decision Trees\n",
    "- Random Forests\n",
    "- Bagging\n",
    "- Boosting\n",
    "- Simple Neural Nets (like the MLP we saw in Homework 6)\n",
    "- (other topics are possible, but get staff approval first)\n",
    "\n",
    "**Make 3 slides explaining the concept.**\n",
    "\n",
    "- Focus on **clear explanations**, NOT aesthetic beauty. Photos of pen-and-paper sketches are fine if they're legible.\n",
    "- For your audience, choose **future CS109A students**.\n",
    "- You may take inspiration from anywhere, but explain in **your own words** and **make your own illustrations**.\n",
    "\n",
    "\n",
    "Submit your slides as a PDF and the source format (`.pptx`, Google Slides, etc.)\n",
    "\n",
    "NOTE: If you would be okay with us using your slides for future classes (with attribution, of course), please include a note to that effect. This will not affect your grade either way."
   ]
  }
 ],
 "metadata": {
  "anaconda-cloud": {},
  "kernelspec": {
   "display_name": "Python 3",
   "language": "python",
   "name": "python3"
  },
  "language_info": {
   "codemirror_mode": {
    "name": "ipython",
    "version": 3
   },
   "file_extension": ".py",
   "mimetype": "text/x-python",
   "name": "python",
   "nbconvert_exporter": "python",
   "pygments_lexer": "ipython3",
   "version": "3.6.5"
  },
  "latex_envs": {
   "bibliofile": "biblio.bib",
   "cite_by": "apalike",
   "current_citInitial": 1,
   "eqLabelWithNumbers": true,
   "eqNumInitial": 0
  },
  "toc": {
   "base_numbering": 1,
   "nav_menu": {},
   "number_sections": true,
   "sideBar": true,
   "skip_h1_title": false,
   "title_cell": "Table of Contents",
   "title_sidebar": "Contents",
   "toc_cell": false,
   "toc_position": {},
   "toc_section_display": true,
   "toc_window_display": false
  }
 },
 "nbformat": 4,
 "nbformat_minor": 1
}
